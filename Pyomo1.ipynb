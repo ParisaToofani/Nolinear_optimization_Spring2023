{
  "cells": [
    {
      "cell_type": "markdown",
      "metadata": {
        "id": "3D4EHFORtpBZ"
      },
      "source": [
        "# Pyomo Homework 1"
      ]
    },
    {
      "cell_type": "code",
      "execution_count": 43,
      "metadata": {
        "colab": {
          "base_uri": "https://localhost:8080/"
        },
        "id": "hZZEdnNntpBb",
        "outputId": "1470c3f0-5ecc-4caf-ac8b-15853cc5a606"
      },
      "outputs": [
        {
          "name": "stdout",
          "output_type": "stream",
          "text": [
            "--2023-01-22 16:51:06--  https://raw.githubusercontent.com/ndcbe/optimization/main/notebooks/helper.py\n",
            "Resolving raw.githubusercontent.com (raw.githubusercontent.com)... 185.199.108.133, 185.199.109.133, 185.199.110.133, ...\n",
            "Connecting to raw.githubusercontent.com (raw.githubusercontent.com)|185.199.108.133|:443... connected.\n",
            "HTTP request sent, awaiting response... 200 OK\n",
            "Length: 6463 (6.3K) [text/plain]\n",
            "Saving to: ‘helper.py.3’\n",
            "\n",
            "\rhelper.py.3           0%[                    ]       0  --.-KB/s               \rhelper.py.3         100%[===================>]   6.31K  --.-KB/s    in 0s      \n",
            "\n",
            "2023-01-22 16:51:06 (42.9 MB/s) - ‘helper.py.3’ saved [6463/6463]\n",
            "\n",
            "IDAES found! No need to install.\n",
            "Ipopt found! No need to install.\n",
            "ipopt was successfully installed\n",
            "k_aug was successfully installed\n",
            "Installing glpk via apt-get...\n"
          ]
        }
      ],
      "source": [
        "# This code cell installs packages on Colab\n",
        "\n",
        "import sys\n",
        "if \"google.colab\" in sys.modules:\n",
        "    !wget \"https://raw.githubusercontent.com/ndcbe/optimization/main/notebooks/helper.py\"\n",
        "    import helper\n",
        "    helper.install_idaes()\n",
        "    helper.install_ipopt()\n",
        "    helper.install_glpk()\n",
        "    # helper.download_data(['knapsack_data.xlsx','knapsack_data.csv'])\n",
        "else:\n",
        "    # run solutions locally (TA/instructor testing mainly)\n",
        "    import idaes"
      ]
    },
    {
      "cell_type": "code",
      "execution_count": 44,
      "metadata": {
        "id": "fUbGS0bstpBe"
      },
      "outputs": [],
      "source": [
        "## IMPORT LIBRARIES\n",
        "import pyomo.environ as pyo\n",
        "import pandas as pd"
      ]
    },
    {
      "cell_type": "markdown",
      "metadata": {
        "id": "T0GmnI7ptpBe"
      },
      "source": [
        "Special thanks to the Pyomo team for create these excercises as part of their excellent PyomoFest workshop."
      ]
    },
    {
      "cell_type": "markdown",
      "metadata": {
        "id": "5_FScjDEtpBf"
      },
      "source": [
        "## 1 Pyomo Fundamentals"
      ]
    },
    {
      "cell_type": "markdown",
      "metadata": {
        "id": "0-z6FvJXtpBf"
      },
      "source": [
        "### 1.1 Knapsack example\n",
        "\n",
        "You want to fill a knapsack (a.k.a. bag). You can choose from a hammer, wrench, screwdriver, and towel. Each item has a different weight and value. You want to maximize the value (benefit) of the collection of items constrained by a total weight limit. Let's formulate this as an optimization problem.\n",
        "\n",
        "**Sets**\n",
        "\n",
        "$$\\mathcal{A} = \\{\\text{hammer},~\\text{wrench},~\\text{screwdriver},~\\text{towel} \\}$$  \n",
        "\n",
        "**Parameters (Data)**\n",
        "\n",
        "Let $b_i$ and $w_i$ represent the benefit and weight of item $i$, respectfully.\n",
        "\n",
        "| Item ($i$)  | Benefit ($b_i$) | Weigth ($w_i$) |\n",
        "| ----------- | ----------- | ----------- |\n",
        "| hammer      | 8      | 5|\n",
        "| wrench   | 3        | 7 |\n",
        "| screwdriver  | 6 | 4        |\n",
        "| towel   | 11  | 3 |\n",
        "\n",
        "Let $W_{max} = 14$ be the maximum weight.\n",
        "\n",
        "**Variables**\n",
        "\n",
        "Let $x_i \\in \\{0,1\\}$ (binary) represent whether or not we include item $i$ in the knapsack. For now, we will consider only being able to choose either none or one of each item.\n",
        "\n",
        "**Objective and Constraints**\n",
        "\n",
        "$$\n",
        "\\begin{equation} \n",
        "\\begin{split}\n",
        "\\max_{x} \\quad & \\sum_{i\\in{\\mathcal{A}}}b_i x_i \\\\\n",
        "\\text{s.t.} \\quad & \\sum_{i\\in{\\mathcal{A}}}w_ix_i \\leq W_{max} \\\\\n",
        "& x_i \\in \\{0,1\\}, \\quad \\forall i \\in \\mathcal{A}\n",
        "\\end{split}\n",
        "\\end{equation}\n",
        "$$\n",
        "\n",
        "\n",
        "**Pyomo**\n",
        "\n",
        "Solve the knapsack problem given below using GLPK and answer the following questions:\n",
        "\n",
        "1. Which items are acquired in the optimal solution?\n",
        "\n",
        "2. Why does this solution make sense? (Write ~2 sentences.)"
      ]
    },
    {
      "cell_type": "code",
      "execution_count": 45,
      "metadata": {
        "colab": {
          "base_uri": "https://localhost:8080/"
        },
        "id": "1QtBXhxytpBg",
        "outputId": "d63ebf5e-1c38-4087-cd47-b17e28a9b5d5"
      },
      "outputs": [
        {
          "name": "stdout",
          "output_type": "stream",
          "text": [
            "1 Set Declarations\n",
            "    x_index : Size=1, Index=None, Ordered=Insertion\n",
            "        Key  : Dimen : Domain : Size : Members\n",
            "        None :     1 :    Any :    4 : {'hammer', 'wrench', 'screwdriver', 'towel'}\n",
            "\n",
            "1 Var Declarations\n",
            "    x : Size=4, Index=x_index\n",
            "        Key         : Lower : Value : Upper : Fixed : Stale : Domain\n",
            "             hammer :     0 :   1.0 :     1 : False : False : Binary\n",
            "        screwdriver :     0 :   1.0 :     1 : False : False : Binary\n",
            "              towel :     0 :   1.0 :     1 : False : False : Binary\n",
            "             wrench :     0 :   0.0 :     1 : False : False : Binary\n",
            "\n",
            "1 Objective Declarations\n",
            "    obj : Size=1, Index=None, Active=True\n",
            "        Key  : Active : Sense    : Expression\n",
            "        None :   True : maximize : 8*x[hammer] + 3*x[wrench] + 6*x[screwdriver] + 11*x[towel]\n",
            "\n",
            "1 Constraint Declarations\n",
            "    weight_con : Size=1, Index=None, Active=True\n",
            "        Key  : Lower : Body                                                      : Upper : Active\n",
            "        None :  -Inf : 5*x[hammer] + 7*x[wrench] + 4*x[screwdriver] + 3*x[towel] :  14.0 :   True\n",
            "\n",
            "4 Declarations: x_index x obj weight_con\n",
            "Model unknown\n",
            "\n",
            "  Variables:\n",
            "    x : Size=4, Index=x_index\n",
            "        Key         : Lower : Value : Upper : Fixed : Stale : Domain\n",
            "             hammer :     0 :   1.0 :     1 : False : False : Binary\n",
            "        screwdriver :     0 :   1.0 :     1 : False : False : Binary\n",
            "              towel :     0 :   1.0 :     1 : False : False : Binary\n",
            "             wrench :     0 :   0.0 :     1 : False : False : Binary\n",
            "\n",
            "  Objectives:\n",
            "    obj : Size=1, Index=None, Active=True\n",
            "        Key  : Active : Value\n",
            "        None :   True :  25.0\n",
            "\n",
            "  Constraints:\n",
            "    weight_con : Size=1\n",
            "        Key  : Lower : Body : Upper\n",
            "        None :  None : 12.0 :  14.0\n"
          ]
        }
      ],
      "source": [
        "A = ['hammer', 'wrench', 'screwdriver', 'towel']\n",
        "b = {'hammer':8, 'wrench':3, 'screwdriver':6, 'towel':11}\n",
        "w = {'hammer':5, 'wrench':7, 'screwdriver':4, 'towel':3}\n",
        "W_max = 14\n",
        "\n",
        "model = pyo.ConcreteModel()\n",
        "model.x = pyo.Var( A, within=pyo.Binary )\n",
        "\n",
        "model.obj = pyo.Objective(\n",
        "    expr = sum( b[i]*model.x[i] for i in A ), \n",
        "    sense = pyo.maximize )\n",
        "\n",
        "model.weight_con = pyo.Constraint(\n",
        "    expr = sum( w[i]*model.x[i] for i in A ) <= W_max )\n",
        "\n",
        "# Add your solution here\n",
        "\"\"\"\n",
        "!!! if you are on the local system (anaconda), you need to install glpk\n",
        "manually using the following command:\n",
        "Anaconda Prompt: conda install -c conda-forge glpk\n",
        "\"\"\"\n",
        "# Specify the solver\n",
        "opt = pyo.SolverFactory('glpk')\n",
        "# Solve\n",
        "opt_success = opt.solve(model)\n",
        "#\n",
        "model.pprint()\n",
        "#\n",
        "model.display()\n"
      ]
    },
    {
      "cell_type": "markdown",
      "metadata": {
        "id": "UQmUbcFftpBh"
      },
      "source": [
        "**Question Answers**\n",
        "\n",
        "1. *As $x_i$ is a binary value, the items with value equal to one are included in optimal solution.Here, they are Hammer, Screwdriver and towel.*\n",
        "\n",
        "2. *As these three items (Hammer, Screwdriver and towel) have the high benefit with low weight while the wrench has the least benefit with high weight.*"
      ]
    },
    {
      "cell_type": "markdown",
      "metadata": {
        "id": "t5uRoC9WtpBh"
      },
      "source": [
        "### 1.2 Knapsack example with improve printing\n",
        "\n",
        "Complete the missing lines in the code below to produce formatted output: print the total weight, the value of the items selected (the objective), and the items acquired in the optimal solution. Note, the Pyomo value function should be used to get the floating point value of Pyomo modeling components (e.g., `print(value(model.x[i])`)."
      ]
    },
    {
      "cell_type": "code",
      "execution_count": 46,
      "metadata": {
        "colab": {
          "base_uri": "https://localhost:8080/"
        },
        "id": "DjgiWC0JtpBh",
        "outputId": "4d4ae6fe-015b-4c42-e9df-ab2dff6e7b87"
      },
      "outputs": [
        {
          "name": "stdout",
          "output_type": "stream",
          "text": [
            "The total weight of items aquired in the optimal solution:  12.0\n",
            "        Item     Selected\n",
            "=========================\n",
            "   x[hammer]          1.0\n",
            "   x[wrench]          0.0\n",
            "x[screwdriver]          1.0\n",
            "    x[towel]          1.0\n",
            "-------------------------\n"
          ]
        }
      ],
      "source": [
        "A = ['hammer', 'wrench', 'screwdriver', 'towel']\n",
        "b = {'hammer':8, 'wrench':3, 'screwdriver':6, 'towel':11}\n",
        "w = {'hammer':5, 'wrench':7, 'screwdriver':4, 'towel':3}\n",
        "W_max = 14\n",
        "\n",
        "model = pyo.ConcreteModel()\n",
        "model.x = pyo.Var( A, within=pyo.Binary )\n",
        "\n",
        "model.obj = pyo.Objective(\n",
        "    expr = sum( b[i]*model.x[i] for i in A ), \n",
        "    sense = pyo.maximize )\n",
        "\n",
        "model.weight_con = pyo.Constraint(\n",
        "    expr = sum( w[i]*model.x[i] for i in A ) <= W_max )\n",
        "\n",
        "opt = pyo.SolverFactory('glpk')\n",
        "opt_success = opt.solve(model)\n",
        "\n",
        "total_weight = sum( w[i]*pyo.value(model.x[i]) for i in A )\n",
        "# Add your solution here\n",
        "print(\"The total weight of items aquired in the optimal solution: \", round(total_weight, 2))\n",
        "print('%12s %12s' % ('Item', 'Selected'))\n",
        "print('=========================')\n",
        "for i in A:\n",
        "    # Add your solution here\n",
        "    print('%12s %12s' % (model.x[i], pyo.value(model.x[i])))\n",
        "print('-------------------------')"
      ]
    },
    {
      "cell_type": "markdown",
      "metadata": {
        "id": "wKn5wKSxtpBi"
      },
      "source": [
        "### 1.3 Changing data\n",
        "\n",
        "Using your code from **Question 1.2**, if we were to increase the value of the wrench, at what point would it become selected as part of the optimal solution?"
      ]
    },
    {
      "cell_type": "code",
      "execution_count": 47,
      "metadata": {
        "colab": {
          "base_uri": "https://localhost:8080/"
        },
        "id": "aUqwuTpEtpBi",
        "outputId": "92f0ab5c-b509-4cb7-f235-cebb73c6981b"
      },
      "outputs": [
        {
          "name": "stderr",
          "output_type": "stream",
          "text": [
            "WARNING:pyomo.core:Implicitly replacing the Component attribute obj (type=<class 'pyomo.core.base.objective.ScalarObjective'>) on block unknown with a new Component (type=<class 'pyomo.core.base.objective.ScalarObjective'>).\n",
            "This is usually indicative of a modelling error.\n",
            "To avoid this warning, use block.del_component() and block.add_component().\n",
            "WARNING:pyomo.core:Implicitly replacing the Component attribute weight_con (type=<class 'pyomo.core.base.constraint.ScalarConstraint'>) on block unknown with a new Component (type=<class 'pyomo.core.base.constraint.AbstractScalarConstraint'>).\n",
            "This is usually indicative of a modelling error.\n",
            "To avoid this warning, use block.del_component() and block.add_component().\n",
            "WARNING:pyomo.core:Implicitly replacing the Component attribute obj (type=<class 'pyomo.core.base.objective.ScalarObjective'>) on block unknown with a new Component (type=<class 'pyomo.core.base.objective.ScalarObjective'>).\n",
            "This is usually indicative of a modelling error.\n",
            "To avoid this warning, use block.del_component() and block.add_component().\n",
            "WARNING:pyomo.core:Implicitly replacing the Component attribute weight_con (type=<class 'pyomo.core.base.constraint.ScalarConstraint'>) on block unknown with a new Component (type=<class 'pyomo.core.base.constraint.AbstractScalarConstraint'>).\n",
            "This is usually indicative of a modelling error.\n",
            "To avoid this warning, use block.del_component() and block.add_component().\n",
            "WARNING:pyomo.core:Implicitly replacing the Component attribute obj (type=<class 'pyomo.core.base.objective.ScalarObjective'>) on block unknown with a new Component (type=<class 'pyomo.core.base.objective.ScalarObjective'>).\n",
            "This is usually indicative of a modelling error.\n",
            "To avoid this warning, use block.del_component() and block.add_component().\n",
            "WARNING:pyomo.core:Implicitly replacing the Component attribute weight_con (type=<class 'pyomo.core.base.constraint.ScalarConstraint'>) on block unknown with a new Component (type=<class 'pyomo.core.base.constraint.AbstractScalarConstraint'>).\n",
            "This is usually indicative of a modelling error.\n",
            "To avoid this warning, use block.del_component() and block.add_component().\n",
            "WARNING:pyomo.core:Implicitly replacing the Component attribute obj (type=<class 'pyomo.core.base.objective.ScalarObjective'>) on block unknown with a new Component (type=<class 'pyomo.core.base.objective.ScalarObjective'>).\n",
            "This is usually indicative of a modelling error.\n",
            "To avoid this warning, use block.del_component() and block.add_component().\n",
            "WARNING:pyomo.core:Implicitly replacing the Component attribute weight_con (type=<class 'pyomo.core.base.constraint.ScalarConstraint'>) on block unknown with a new Component (type=<class 'pyomo.core.base.constraint.AbstractScalarConstraint'>).\n",
            "This is usually indicative of a modelling error.\n",
            "To avoid this warning, use block.del_component() and block.add_component().\n",
            "WARNING:pyomo.core:Implicitly replacing the Component attribute obj (type=<class 'pyomo.core.base.objective.ScalarObjective'>) on block unknown with a new Component (type=<class 'pyomo.core.base.objective.ScalarObjective'>).\n",
            "This is usually indicative of a modelling error.\n",
            "To avoid this warning, use block.del_component() and block.add_component().\n",
            "WARNING:pyomo.core:Implicitly replacing the Component attribute weight_con (type=<class 'pyomo.core.base.constraint.ScalarConstraint'>) on block unknown with a new Component (type=<class 'pyomo.core.base.constraint.AbstractScalarConstraint'>).\n",
            "This is usually indicative of a modelling error.\n",
            "To avoid this warning, use block.del_component() and block.add_component().\n"
          ]
        }
      ],
      "source": [
        "# Add your solution here\n",
        "\"\"\"\n",
        "Here, a loop is provided to iteratively increase the \n",
        "value of the wrench untill selected items value of wrench\n",
        "become equal to 1.\n",
        "\"\"\"\n",
        "A = ['hammer', 'wrench', 'screwdriver', 'towel']\n",
        "b = {'hammer':8, 'wrench':3, 'screwdriver':6, 'towel':11}\n",
        "w = {'hammer':5, 'wrench':7, 'screwdriver':4, 'towel':3}\n",
        "W_max = 14\n",
        "\n",
        "model = pyo.ConcreteModel()\n",
        "model.x = pyo.Var( A, within=pyo.Binary )\n",
        "\n",
        "while True:\n",
        "  model.obj = pyo.Objective(\n",
        "      expr = sum( b[i]*model.x[i] for i in A ), \n",
        "      sense = pyo.maximize )\n",
        "\n",
        "  model.weight_con = pyo.Constraint(\n",
        "      expr = sum( w[i]*model.x[i] for i in A ) <= W_max )\n",
        "\n",
        "  opt = pyo.SolverFactory('glpk')\n",
        "  opt_success = opt.solve(model)\n",
        "\n",
        "  total_weight = sum( w[i]*pyo.value(model.x[i]) for i in A )\n",
        "  if pyo.value(model.x['wrench']) == 1:\n",
        "    break\n",
        "  b['wrench'] += 1\n"
      ]
    },
    {
      "cell_type": "code",
      "execution_count": 48,
      "metadata": {
        "colab": {
          "base_uri": "https://localhost:8080/"
        },
        "id": "QeDHl7hZxW76",
        "outputId": "09771051-2fc7-4500-8846-bb57b5598a4c"
      },
      "outputs": [
        {
          "name": "stdout",
          "output_type": "stream",
          "text": [
            "The total weight of items aquired in the optimal solution:  14.0\n",
            "        Item     Selected\n",
            "=========================\n",
            "   x[hammer]          0.0\n",
            "   x[wrench]          1.0\n",
            "x[screwdriver]          1.0\n",
            "    x[towel]          1.0\n",
            "-------------------------\n"
          ]
        }
      ],
      "source": [
        "total_weight = sum( w[i]*pyo.value(model.x[i]) for i in A )\n",
        "# Add your solution here\n",
        "print(\"The total weight of items aquired in the optimal solution: \", round(total_weight, 2))\n",
        "print('%12s %12s' % ('Item', 'Selected'))\n",
        "print('=========================')\n",
        "for i in A:\n",
        "    # Add your solution here\n",
        "    print('%12s %12s' % (model.x[i], pyo.value(model.x[i])))\n",
        "print('-------------------------')"
      ]
    },
    {
      "cell_type": "markdown",
      "metadata": {
        "id": "_UyaXyuItpBi"
      },
      "source": [
        "**Question Answer**\n",
        "\n",
        "*By increasing the value, the items wrench, screwdriver and towl become optimal solution with total weight of 14 which meet the requirement of the constraint.*"
      ]
    },
    {
      "cell_type": "markdown",
      "metadata": {
        "id": "JNZPAORUtpBi"
      },
      "source": [
        "### 1.4 Loading data from Excel\n",
        "\n",
        "In the code above, the data is hardcoded at the top of the file. Instead of hardcoding the data, use Python to load the data from a difference source. You may use Pandas to load data from 'knapsack_data.xlsx' into a dataframe. You will then need to write code to obtain a dictionary from the dataframe."
      ]
    },
    {
      "cell_type": "code",
      "execution_count": 49,
      "metadata": {
        "colab": {
          "base_uri": "https://localhost:8080/"
        },
        "id": "kR6-fvJ1tpBj",
        "outputId": "6fd56e13-68e7-494d-dc9b-9da0618f295a"
      },
      "outputs": [
        {
          "name": "stdout",
          "output_type": "stream",
          "text": [
            "{'Benefit': {'hammer': 8, 'wrench': 3, 'screwdriver': 6, 'towel': 11}, 'Weight': {'hammer': 5, 'wrench': 7, 'screwdriver': 4, 'towel': 3}}\n",
            "Total Weight: 14.0\n",
            "Total Benefit: 25.0\n",
            "        Item     Selected\n",
            "=========================\n",
            "      hammer           No\n",
            "      wrench          Yes\n",
            " screwdriver          Yes\n",
            "       towel          Yes\n",
            "-------------------------\n"
          ]
        }
      ],
      "source": [
        "df_items = pd.read_excel('https://raw.githubusercontent.com/ndcbe/optimization/main/notebooks/data/knapsack_data.xlsx', sheet_name='data', header=0, index_col=0)\n",
        "W_max = 14\n",
        "\n",
        "A = df_items.index.tolist()\n",
        "# Add your solution here\n",
        "### Solution\n",
        "\"\"\"\n",
        "Create a dictionary from the data using pandas, the output should\n",
        "be like the following:\n",
        "{\n",
        "'Benefit': {'hammer': 8, 'wrench': 3, 'screwdriver': 6, 'towel': 11}, \n",
        "'Weight': {'hammer': 5, 'wrench': 7, 'screwdriver': 4, 'towel': 3}\n",
        "}\n",
        "\"\"\"\n",
        "dict_items = df_items.to_dict()\n",
        "print(dict_items)\n",
        "###\n",
        "model = pyo.ConcreteModel()\n",
        "model.x = pyo.Var( A, within=pyo.Binary )\n",
        "\n",
        "model.obj = pyo.Objective(\n",
        "    expr = sum( b[i]*model.x[i] for i in A ), \n",
        "    sense = pyo.maximize )\n",
        "\n",
        "model.weight_con = pyo.Constraint(\n",
        "    expr = sum( w[i]*model.x[i] for i in A ) <= W_max )\n",
        "\n",
        "opt = pyo.SolverFactory('glpk')\n",
        "opt_success = opt.solve(model)\n",
        "\n",
        "total_weight = sum( w[i]*pyo.value(model.x[i]) for i in A )\n",
        "print('Total Weight:', total_weight)\n",
        "print('Total Benefit:', pyo.value(model.obj))\n",
        "\n",
        "print('%12s %12s' % ('Item', 'Selected'))\n",
        "print('=========================')\n",
        "for i in A:\n",
        "    acquired = 'No'\n",
        "    if pyo.value(model.x[i]) >= 0.5:\n",
        "        acquired = 'Yes'\n",
        "    print('%12s %12s' % (i, acquired))\n",
        "print('-------------------------')"
      ]
    },
    {
      "cell_type": "markdown",
      "metadata": {
        "id": "CXHSLSvHtpBj"
      },
      "source": [
        "### 1.5 NLP vs. MIP\n",
        "\n",
        "Solve the knapsack problem with IPOPT instead of glpk. Print the solution values for model.x. What happened? Why?\n",
        "\n",
        "*Hint*: Switch `glpk` to `ipopt` in the call to `SolverFactory`."
      ]
    },
    {
      "cell_type": "code",
      "execution_count": 50,
      "metadata": {
        "colab": {
          "base_uri": "https://localhost:8080/"
        },
        "id": "Y_FFysqGtpBj",
        "outputId": "5307b453-0093-4807-9f99-6ec63bf7abe1"
      },
      "outputs": [
        {
          "name": "stdout",
          "output_type": "stream",
          "text": [
            "1 Set Declarations\n",
            "    x_index : Size=1, Index=None, Ordered=Insertion\n",
            "        Key  : Dimen : Domain : Size : Members\n",
            "        None :     1 :    Any :    4 : {'hammer', 'wrench', 'screwdriver', 'towel'}\n",
            "\n",
            "1 Var Declarations\n",
            "    x : Size=4, Index=x_index\n",
            "        Key         : Lower : Value              : Upper : Fixed : Stale : Domain\n",
            "             hammer :     0 :                1.0 :     1 : False : False : Binary\n",
            "        screwdriver :     0 :                1.0 :     1 : False : False : Binary\n",
            "              towel :     0 :                1.0 :     1 : False : False : Binary\n",
            "             wrench :     0 : 0.2857142884855869 :     1 : False : False : Binary\n",
            "\n",
            "1 Objective Declarations\n",
            "    obj : Size=1, Index=None, Active=True\n",
            "        Key  : Active : Sense    : Expression\n",
            "        None :   True : maximize : 8*x[hammer] + 3*x[wrench] + 6*x[screwdriver] + 11*x[towel]\n",
            "\n",
            "1 Constraint Declarations\n",
            "    weight_con : Size=1, Index=None, Active=True\n",
            "        Key  : Lower : Body                                                      : Upper : Active\n",
            "        None :  -Inf : 5*x[hammer] + 7*x[wrench] + 4*x[screwdriver] + 3*x[towel] :  14.0 :   True\n",
            "\n",
            "4 Declarations: x_index x obj weight_con\n"
          ]
        }
      ],
      "source": [
        "A = ['hammer', 'wrench', 'screwdriver', 'towel']\n",
        "b = {'hammer':8, 'wrench':3, 'screwdriver':6, 'towel':11}\n",
        "w = {'hammer':5, 'wrench':7, 'screwdriver':4, 'towel':3}\n",
        "W_max = 14\n",
        "\n",
        "model = pyo.ConcreteModel()\n",
        "model.x = pyo.Var( A, within=pyo.Binary )\n",
        "\n",
        "model.obj = pyo.Objective(\n",
        "    expr = sum( b[i]*model.x[i] for i in A ), \n",
        "    sense = pyo.maximize )\n",
        "\n",
        "model.weight_con = pyo.Constraint(\n",
        "    expr = sum( w[i]*model.x[i] for i in A ) <= W_max )\n",
        "\n",
        "# Add your solution here\n",
        "###\n",
        "opt = pyo.SolverFactory('ipopt')\n",
        "opt_success = opt.solve(model)\n",
        "###\n",
        "model.pprint()"
      ]
    },
    {
      "cell_type": "markdown",
      "metadata": {
        "id": "CwnBffgttpBj"
      },
      "source": [
        "**Question Answers**\n",
        "\n",
        "Fisrt, let's see what are the differences between glpk and ipopt:\n",
        "\n",
        "ipopt: This is a solver for the nonlinear problems\n",
        "\n",
        "GLPK: This is a solver for linear problems which detects a result as binary format. \n",
        "\n",
        "For this reason, in the first part we see the solution as {0, 1} but in the second part the values are anything between [0, 1].\n"
      ]
    },
    {
      "cell_type": "markdown",
      "metadata": {
        "id": "jNYhQeGbtpBj"
      },
      "source": [
        "## More Pyomo Fundamentals"
      ]
    },
    {
      "cell_type": "markdown",
      "metadata": {
        "id": "NYzntqOBtpBk"
      },
      "source": [
        "### 2.1 Knapsack problem with rules\n",
        "\n",
        "Rules are important for defining indexed constraints, however, they can also be used for single (i.e. scalar) constraints. Reimplement the knapsack model from **Question 1.1** using rules for the objective and the constraints."
      ]
    },
    {
      "cell_type": "code",
      "execution_count": 56,
      "metadata": {
        "colab": {
          "base_uri": "https://localhost:8080/"
        },
        "id": "rN4q-U5vtpBk",
        "outputId": "b467a179-e2b9-40ab-d5b1-082bf139d19e"
      },
      "outputs": [
        {
          "name": "stdout",
          "output_type": "stream",
          "text": [
            "1 Set Declarations\n",
            "    x_index : Size=1, Index=None, Ordered=Insertion\n",
            "        Key  : Dimen : Domain : Size : Members\n",
            "        None :     1 :    Any :    4 : {'hammer', 'wrench', 'screwdriver', 'towel'}\n",
            "\n",
            "1 Var Declarations\n",
            "    x : Size=4, Index=x_index\n",
            "        Key         : Lower : Value : Upper : Fixed : Stale : Domain\n",
            "             hammer :     0 :   1.0 :     1 : False : False : Binary\n",
            "        screwdriver :     0 :   1.0 :     1 : False : False : Binary\n",
            "              towel :     0 :   1.0 :     1 : False : False : Binary\n",
            "             wrench :     0 :   0.0 :     1 : False : False : Binary\n",
            "\n",
            "1 Objective Declarations\n",
            "    obj : Size=1, Index=None, Active=True\n",
            "        Key  : Active : Sense    : Expression\n",
            "        None :   True : maximize : 8*x[hammer] + 3*x[wrench] + 6*x[screwdriver] + 11*x[towel]\n",
            "\n",
            "1 Constraint Declarations\n",
            "    weight_con : Size=1, Index=None, Active=True\n",
            "        Key  : Lower : Body                                                      : Upper : Active\n",
            "        None :  -Inf : 5*x[hammer] + 7*x[wrench] + 4*x[screwdriver] + 3*x[towel] :  14.0 :   True\n",
            "\n",
            "4 Declarations: x_index x obj weight_con\n"
          ]
        }
      ],
      "source": [
        "A = ['hammer', 'wrench', 'screwdriver', 'towel']\n",
        "b = {'hammer':8, 'wrench':3, 'screwdriver':6, 'towel':11}\n",
        "w = {'hammer':5, 'wrench':7, 'screwdriver':4, 'towel':3}\n",
        "W_max = 14\n",
        "\n",
        "model = pyo.ConcreteModel()\n",
        "model.x = pyo.Var( A, within=pyo.Binary )\n",
        "\n",
        "# Add your solution here\n",
        "###\n",
        "\"\"\"\n",
        "In the previous part the objective and constraints are defined using 'expr',\n",
        "however, this is useful if we have small indexed formulation, generally is better\n",
        "to use rules (pre-defined functions), to implement.\n",
        "\"\"\"\n",
        "def objective_rule(model):\n",
        "  return sum(b[i]*model.x[i] for i in A)\n",
        "\n",
        "def constraint_rule(model):\n",
        "  return sum( w[i]*model.x[i] for i in A ) <= W_max \n",
        "\n",
        "model.obj = pyo.Objective(rule = objective_rule, sense = pyo.maximize )\n",
        "\n",
        "model.weight_con = pyo.Constraint(rule = constraint_rule )\n",
        "###\n",
        "# Specify the solver\n",
        "opt = pyo.SolverFactory('glpk')\n",
        "# Solve\n",
        "opt_success = opt.solve(model)\n",
        "#\n",
        "model.pprint()\n",
        "\"\"\"\n",
        "As it can be seen by changing the rules the results are the same!\n",
        "\"\"\""
      ]
    },
    {
      "cell_type": "markdown",
      "metadata": {
        "id": "OMvom-rztpBk"
      },
      "source": [
        "### 2.2 Integer formulation of the knapsack problem\n",
        "\n",
        "Consider again the knapsack problem. Assume now that we can acquire multiple items of the same type. In this new formulation, $x_i$ is now an integer variable instead of a binary variable. One way to formulate this problem is as follows:\n",
        "\n",
        "$$\n",
        "\\begin{equation} \n",
        "\\begin{split}\n",
        "\\max_{x} \\quad & \\sum_{i\\in{\\mathcal{A}}}b_i x_i \\\\\n",
        "\\text{s.t.} \\quad & \\sum_{i\\in{\\mathcal{A}}}w_i x_i \\leq W_{max} \\\\\n",
        " & x_i=\\sum_{j=0}^Njq_{i,j}, \\quad \\forall i \\in \\mathcal{A} \\\\\n",
        " & 0 \\leq x_i \\leq N, \\quad \\forall i \\in \\mathcal{A} \\\\\n",
        " & q_{i,j} \\in \\{0,1\\}, \\quad \\forall i \\in \\mathcal{A}, j \\in \\{0,...,N\\}\n",
        "\\end{split}\n",
        "\\end{equation}\n",
        "$$\n",
        "\n",
        "One could optionally add the following constraint select only one $q_{i,j}$ for each $i$, although it is not stricly neccessary to yield an integer solution.\n",
        "$$\n",
        "\\begin{equation}\n",
        "\\sum_{j=0}^N q_{i,j} = 1, \\quad \\forall i \\in \\mathcal{A}\n",
        "\\end{equation}\n",
        "$$\n",
        "\n",
        "Starting with your code from **Question 2.1**, implement this new formulation and solve. Is the solution surprising?"
      ]
    },
    {
      "cell_type": "code",
      "execution_count": 80,
      "metadata": {
        "colab": {
          "base_uri": "https://localhost:8080/"
        },
        "id": "Cz_H2XdDtpBk",
        "outputId": "385e39f6-7d64-4dcf-daeb-643428fe247b"
      },
      "outputs": [
        {
          "name": "stdout",
          "output_type": "stream",
          "text": [
            "5 Set Declarations\n",
            "    q_index : Size=1, Index=None, Ordered=True\n",
            "        Key  : Dimen : Domain              : Size : Members\n",
            "        None :     2 : q_index_0*q_index_1 :   24 : {('hammer', 0), ('hammer', 1), ('hammer', 2), ('hammer', 3), ('hammer', 4), ('hammer', 5), ('wrench', 0), ('wrench', 1), ('wrench', 2), ('wrench', 3), ('wrench', 4), ('wrench', 5), ('screwdriver', 0), ('screwdriver', 1), ('screwdriver', 2), ('screwdriver', 3), ('screwdriver', 4), ('screwdriver', 5), ('towel', 0), ('towel', 1), ('towel', 2), ('towel', 3), ('towel', 4), ('towel', 5)}\n",
            "    q_index_0 : Size=1, Index=None, Ordered=Insertion\n",
            "        Key  : Dimen : Domain : Size : Members\n",
            "        None :     1 :    Any :    4 : {'hammer', 'wrench', 'screwdriver', 'towel'}\n",
            "    q_index_1 : Size=1, Index=None, Ordered=Insertion\n",
            "        Key  : Dimen : Domain : Size : Members\n",
            "        None :     1 :    Any :    6 : {0, 1, 2, 3, 4, 5}\n",
            "    second_con_index : Size=1, Index=None, Ordered=Insertion\n",
            "        Key  : Dimen : Domain : Size : Members\n",
            "        None :     1 :    Any :    4 : {'hammer', 'wrench', 'screwdriver', 'towel'}\n",
            "    x_index : Size=1, Index=None, Ordered=Insertion\n",
            "        Key  : Dimen : Domain : Size : Members\n",
            "        None :     1 :    Any :    4 : {'hammer', 'wrench', 'screwdriver', 'towel'}\n",
            "\n",
            "2 Var Declarations\n",
            "    q : Size=24, Index=q_index\n",
            "        Key                : Lower : Value : Upper : Fixed : Stale : Domain\n",
            "             ('hammer', 0) :     0 :   0.0 :     1 : False : False : Binary\n",
            "             ('hammer', 1) :     0 :   0.0 :     1 : False : False : Binary\n",
            "             ('hammer', 2) :     0 :   0.0 :     1 : False : False : Binary\n",
            "             ('hammer', 3) :     0 :   0.0 :     1 : False : False : Binary\n",
            "             ('hammer', 4) :     0 :   1.0 :     1 : False : False : Binary\n",
            "             ('hammer', 5) :     0 :   0.0 :     1 : False : False : Binary\n",
            "        ('screwdriver', 0) :     0 :   0.0 :     1 : False : False : Binary\n",
            "        ('screwdriver', 1) :     0 :   0.0 :     1 : False : False : Binary\n",
            "        ('screwdriver', 2) :     0 :   0.0 :     1 : False : False : Binary\n",
            "        ('screwdriver', 3) :     0 :   0.0 :     1 : False : False : Binary\n",
            "        ('screwdriver', 4) :     0 :   0.0 :     1 : False : False : Binary\n",
            "        ('screwdriver', 5) :     0 :   1.0 :     1 : False : False : Binary\n",
            "              ('towel', 0) :     0 :   0.0 :     1 : False : False : Binary\n",
            "              ('towel', 1) :     0 :   0.0 :     1 : False : False : Binary\n",
            "              ('towel', 2) :     0 :   0.0 :     1 : False : False : Binary\n",
            "              ('towel', 3) :     0 :   0.0 :     1 : False : False : Binary\n",
            "              ('towel', 4) :     0 :   0.0 :     1 : False : False : Binary\n",
            "              ('towel', 5) :     0 :   1.0 :     1 : False : False : Binary\n",
            "             ('wrench', 0) :     0 :   0.0 :     1 : False : False : Binary\n",
            "             ('wrench', 1) :     0 :   0.0 :     1 : False : False : Binary\n",
            "             ('wrench', 2) :     0 :   0.0 :     1 : False : False : Binary\n",
            "             ('wrench', 3) :     0 :   0.0 :     1 : False : False : Binary\n",
            "             ('wrench', 4) :     0 :   0.0 :     1 : False : False : Binary\n",
            "             ('wrench', 5) :     0 :   1.0 :     1 : False : False : Binary\n",
            "    x : Size=4, Index=x_index\n",
            "        Key         : Lower : Value            : Upper : Fixed : Stale : Domain\n",
            "             hammer :     0 :              0.0 :     6 : False : False :  Reals\n",
            "        screwdriver :     0 :              0.0 :     6 : False : False :  Reals\n",
            "              towel :     0 : 4.66666666666667 :     6 : False : False :  Reals\n",
            "             wrench :     0 :              0.0 :     6 : False : False :  Reals\n",
            "\n",
            "1 Objective Declarations\n",
            "    obj : Size=1, Index=None, Active=True\n",
            "        Key  : Active : Sense    : Expression\n",
            "        None :   True : maximize : 8*x[hammer] + 3*x[wrench] + 6*x[screwdriver] + 11*x[towel]\n",
            "\n",
            "2 Constraint Declarations\n",
            "    second_con : Size=4, Index=second_con_index, Active=True\n",
            "        Key         : Lower : Body                                                                                                            : Upper : Active\n",
            "             hammer :   1.0 :                               q[hammer,0] + q[hammer,1] + q[hammer,2] + q[hammer,3] + q[hammer,4] + q[hammer,5] :   1.0 :   True\n",
            "        screwdriver :   1.0 : q[screwdriver,0] + q[screwdriver,1] + q[screwdriver,2] + q[screwdriver,3] + q[screwdriver,4] + q[screwdriver,5] :   1.0 :   True\n",
            "              towel :   1.0 :                                     q[towel,0] + q[towel,1] + q[towel,2] + q[towel,3] + q[towel,4] + q[towel,5] :   1.0 :   True\n",
            "             wrench :   1.0 :                               q[wrench,0] + q[wrench,1] + q[wrench,2] + q[wrench,3] + q[wrench,4] + q[wrench,5] :   1.0 :   True\n",
            "    weight_con : Size=1, Index=None, Active=True\n",
            "        Key  : Lower : Body                                                      : Upper : Active\n",
            "        None :  -Inf : 5*x[hammer] + 7*x[wrench] + 4*x[screwdriver] + 3*x[towel] :  14.0 :   True\n",
            "\n",
            "10 Declarations: x_index x q_index_0 q_index_1 q_index q obj weight_con second_con_index second_con\n",
            "The total weight of items aquired in the optimal solution:  14.0\n",
            "        Item     Selected\n",
            "=========================\n",
            "   x[hammer]          0.0\n",
            "   x[wrench]          0.0\n",
            "x[screwdriver]          0.0\n",
            "    x[towel] 4.66666666666667\n",
            "-------------------------\n"
          ]
        }
      ],
      "source": [
        "A = ['hammer', 'wrench', 'screwdriver', 'towel']\n",
        "b = {'hammer':8, 'wrench':3, 'screwdriver':6, 'towel':11}\n",
        "w = {'hammer':5, 'wrench':7, 'screwdriver':4, 'towel':3}\n",
        "W_max = 14\n",
        "N = range(6) # create a list from 0-5\n",
        "\n",
        "model = pyo.ConcreteModel()\n",
        "# !!! I think here we should add the boundaries for model.x\n",
        "model.x = pyo.Var(A , bounds=(0, 6))\n",
        "model.q = pyo.Var(A, N, within=pyo.Binary )\n",
        "\n",
        "def obj_rule(m):\n",
        "    return sum( b[i]*m.x[i] for i in A )\n",
        "model.obj = pyo.Objective(rule=obj_rule, sense = pyo.maximize )\n",
        "\n",
        "def weight_con_rule(m):\n",
        "    return sum( w[i]*m.x[i] for i in A ) <= W_max\n",
        "model.weight_con = pyo.Constraint(rule=weight_con_rule)\n",
        "\n",
        "# Add your solution here\n",
        "def second_con_rule(m, a):\n",
        "    return sum( m.q[a,n] for n in N) == 1\n",
        "model.second_con = pyo.Constraint(A, rule=second_con_rule)\n",
        "\n",
        "opt = pyo.SolverFactory('glpk')\n",
        "opt_success = opt.solve(model)\n",
        "#\n",
        "model.pprint()\n",
        "#\n",
        "total_weight = sum( w[i]*pyo.value(model.x[i]) for i in A )\n",
        "# Add your solution here\n",
        "print(\"The total weight of items aquired in the optimal solution: \", round(total_weight, 2))\n",
        "print('%12s %12s' % ('Item', 'Selected'))\n",
        "print('=========================')\n",
        "for i in A:\n",
        "    # Add your solution here\n",
        "    print('%12s %12s' % (model.x[i], pyo.value(model.x[i])))\n",
        "print('-------------------------')"
      ]
    },
    {
      "cell_type": "code",
      "execution_count": 79,
      "metadata": {
        "colab": {
          "base_uri": "https://localhost:8080/"
        },
        "id": "mxB_ETL_n-Ce",
        "outputId": "0533373b-2cdd-4292-9aab-f315e8bd0108"
      },
      "outputs": [
        {
          "name": "stdout",
          "output_type": "stream",
          "text": [
            "14.000000000000009\n"
          ]
        }
      ],
      "source": [
        "total_weight = sum( w[i]*pyo.value(model.x[i]) for i in A )\n",
        "print(total_weight)"
      ]
    },
    {
      "cell_type": "markdown",
      "metadata": {
        "id": "tbe0_fqFtpBl"
      },
      "source": [
        "**Question Answer**\n",
        "\n",
        "*I think the solution makes sense as the towel has the highest value with least weight, and as the repetition is allowed the algorithm should converge to this solution*"
      ]
    },
    {
      "cell_type": "code",
      "execution_count": 52,
      "metadata": {
        "id": "rLUEcC3XtpBl"
      },
      "outputs": [],
      "source": []
    }
  ],
  "metadata": {
    "colab": {
      "provenance": []
    },
    "kernelspec": {
      "display_name": "base",
      "language": "python",
      "name": "python3"
    },
    "language_info": {
      "codemirror_mode": {
        "name": "ipython",
        "version": 3
      },
      "file_extension": ".py",
      "mimetype": "text/x-python",
      "name": "python",
      "nbconvert_exporter": "python",
      "pygments_lexer": "ipython3",
      "version": "3.9.12 (main, Apr  4 2022, 05:22:27) [MSC v.1916 64 bit (AMD64)]"
    },
    "vscode": {
      "interpreter": {
        "hash": "ff4f85d6e04298634172ac5d8264e7e9b556b95639fe52ebb9425c4d4cba0c9c"
      }
    }
  },
  "nbformat": 4,
  "nbformat_minor": 0
}
