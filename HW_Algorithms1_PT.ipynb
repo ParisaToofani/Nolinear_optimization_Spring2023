{
  "cells": [
    {
      "cell_type": "markdown",
      "metadata": {
        "id": "V7echsqlSAGC"
      },
      "source": [
        "# Algorithms Homework 1"
      ]
    },
    {
      "cell_type": "code",
      "execution_count": 1,
      "metadata": {
        "id": "MXvk28IhSAGG"
      },
      "outputs": [],
      "source": [
        "# Load required Python libraries.\n",
        "import matplotlib.pyplot as plt\n",
        "import numpy as np\n",
        "from scipy import linalg"
      ]
    },
    {
      "cell_type": "markdown",
      "metadata": {
        "id": "jFGJHHoBSAGI"
      },
      "source": [
        "## Linear Algebra Review"
      ]
    },
    {
      "cell_type": "markdown",
      "metadata": {
        "tags": [
          "gradescope"
        ],
        "id": "56F3Caj-SAGI"
      },
      "source": [
        "### Exact solution"
      ]
    },
    {
      "cell_type": "markdown",
      "metadata": {
        "id": "s0fqcKiaSAGI"
      },
      "source": [
        "Solve the following system of linear equations BY HAND with exact arithmetic:\n",
        "\n",
        "$$3 x_1 + 2 x_2 + x_3 = 6$$\n",
        "$$-x_1 + 4 x_2 + 5x_3 = 8$$\n",
        "$$2x_1 -8 x_2 + 10 x_3 = 4$$\n",
        "\n",
        "Turn in your work via Gradescope."
      ]
    },
    {
      "cell_type": "markdown",
      "metadata": {
        "id": "ytIRbJMzSAGJ"
      },
      "source": [
        "### Solve using the inverse\n",
        "\n",
        "Solve the same linear system by first inverting the matrix A and performing matrix multiplication. You should use Python and SciPy.\n",
        "* Tutorials and documentation: https://docs.scipy.org/doc/scipy-1.1.0/reference/tutorial/linalg.html"
      ]
    },
    {
      "cell_type": "code",
      "execution_count": 2,
      "metadata": {
        "id": "FwQEMDN-SAGJ",
        "outputId": "42a961fc-3322-48df-eee7-1faaeb51e56e",
        "colab": {
          "base_uri": "https://localhost:8080/"
        }
      },
      "outputs": [
        {
          "output_type": "stream",
          "name": "stdout",
          "text": [
            "A= \n",
            "\n",
            "[[ 3  2  1]\n",
            " [-1  4  5]\n",
            " [ 2 -8 10]]\n",
            "=================\n",
            "b= \n",
            "\n",
            "[6 8 4]\n"
          ]
        }
      ],
      "source": [
        "# Add your solution here\n",
        "A1 = np.array([[3, 2, 1], [-1, 4, 5], [2, -8, 10]])\n",
        "b = np.array([6, 8, 4])\n",
        "print(\"A= \\n\")\n",
        "print(A1)\n",
        "print(\"=================\")\n",
        "print(\"b= \\n\")\n",
        "print(b)"
      ]
    },
    {
      "cell_type": "code",
      "execution_count": 3,
      "metadata": {
        "id": "8bDSNvDsSAGK",
        "outputId": "23c99ced-99a7-46f3-e829-fc5fb6cef0e9",
        "colab": {
          "base_uri": "https://localhost:8080/"
        }
      },
      "outputs": [
        {
          "output_type": "stream",
          "name": "stdout",
          "text": [
            "Inverse of A is: \n",
            "\n",
            "[[ 0.28571429 -0.1         0.02142857]\n",
            " [ 0.07142857  0.1        -0.05714286]\n",
            " [ 0.          0.1         0.05      ]]\n"
          ]
        }
      ],
      "source": [
        "# Add your solution here\n",
        "A1_inv = np.linalg.inv(A1)\n",
        "print(\"Inverse of A is: \\n\")\n",
        "print(A1_inv)"
      ]
    },
    {
      "cell_type": "code",
      "execution_count": 4,
      "metadata": {
        "id": "O0bNduYvSAGK",
        "outputId": "976cdaf0-9f2c-4909-c6e1-e48d8fedcc51",
        "colab": {
          "base_uri": "https://localhost:8080/"
        }
      },
      "outputs": [
        {
          "output_type": "stream",
          "name": "stdout",
          "text": [
            "Solution is (Inverse method): \n",
            "\n",
            "[1. 1. 1.]\n"
          ]
        }
      ],
      "source": [
        "# Add your solution here\n",
        "solution1=A1_inv@b\n",
        "print(\"Solution is (Inverse method): \\n\")\n",
        "print(solution1)"
      ]
    },
    {
      "cell_type": "markdown",
      "metadata": {
        "id": "E_g3SGXKSAGL"
      },
      "source": [
        "### Solve using LU decomposition\n",
        "\n",
        "Do the following:\n",
        "1. Use ``linalg.lu(A)`` to calculate $P$, $L$, and $U$.\n",
        "2. Write a function to solve any linear system given the factorization and $b$. You may not use ```linalg.solve``` in your function. Instead, you should write loops to implement back substitution.\n",
        "3. Use your function to solve the linear system.\n"
      ]
    },
    {
      "cell_type": "code",
      "execution_count": 5,
      "metadata": {
        "id": "gumHlQcOSAGL",
        "outputId": "5bca9309-4978-4b30-bb08-f397d92f461b",
        "colab": {
          "base_uri": "https://localhost:8080/"
        }
      },
      "outputs": [
        {
          "output_type": "stream",
          "name": "stdout",
          "text": [
            "[[1. 0. 0.]\n",
            " [0. 0. 1.]\n",
            " [0. 1. 0.]]\n",
            "[[ 1.          0.          0.        ]\n",
            " [ 0.66666667  1.          0.        ]\n",
            " [-0.33333333 -0.5         1.        ]]\n",
            "[[ 3.          2.          1.        ]\n",
            " [ 0.         -9.33333333  9.33333333]\n",
            " [ 0.          0.         10.        ]]\n"
          ]
        }
      ],
      "source": [
        "# You need to define the matrix A1 somewhere (or change the variable name)\n",
        "P, L, U = linalg.lu(A1)\n",
        "\n",
        "# Permutation matrix\n",
        "print(P)\n",
        "\n",
        "# Lower diagonal matrix\n",
        "print(L)\n",
        "\n",
        "# Upper diagonal matrix\n",
        "print(U)"
      ]
    },
    {
      "cell_type": "markdown",
      "metadata": {
        "id": "oR-31lWUSAGM"
      },
      "source": [
        "Tip: We discussed this algorithm in class. First write pseudocode on paper (how to translate our notes into loops, logical statements, etc.?). Once you are happy with the logic, code it up."
      ]
    },
    {
      "cell_type": "code",
      "execution_count": 6,
      "metadata": {
        "id": "z80jSULFSAGM"
      },
      "outputs": [],
      "source": [
        "# Write function here.\n",
        "def my_lu_solve(P, L, U, b, LOUD=True):\n",
        "    ''' \n",
        "    Solves linear system Ax = b given PLU decomposition of A\n",
        "    \n",
        "    Arguments:\n",
        "        P - N by N permutation matrix\n",
        "        L - N by N lower triangular matrix with 1 on diagonal\n",
        "        U - N by N upper triangular matrix\n",
        "        b - N by 1 vector\n",
        "    \n",
        "    Returns:\n",
        "        x - N by 1 solution to linear system\n",
        "    '''\n",
        "    \n",
        "    # Define x so this does not give an error. You can delete the line below.   \n",
        "    # Add your solution here\n",
        "    # Check dimensions\n",
        "    [Nrow_L, Ncol_L] = L.shape\n",
        "    assert Nrow_L == Ncol_L\n",
        "    [Nrow_U, Ncol_U] = U.shape\n",
        "    assert Nrow_U == Ncol_U\n",
        "    assert Nrow_U == Nrow_L\n",
        "    N = Nrow_U\n",
        "    assert N == b.size\n",
        "    \n",
        "    # forward solve\n",
        "    bmodif = P.dot(b)\n",
        "    y = np.zeros(N)\n",
        "\n",
        "    if LOUD:\n",
        "        print(\"\\nForward solve...\")\n",
        "    for r in range(0,N): # first for loop\n",
        "        RHS = bmodif[r]\n",
        "        \n",
        "        # loop over some of the columns to evaluated summation\n",
        "        for c in range(0,r):\n",
        "            RHS -= y[c]*L[r,c]\n",
        "        \n",
        "        if LOUD:\n",
        "            print(\"y[\",r,\"]=\",RHS)\n",
        "        \n",
        "        y[r] = RHS\n",
        "    \n",
        "    # backward solve\n",
        "    x = np.zeros(N)\n",
        "    if LOUD:\n",
        "        print(\"\\nBackward solve...\")\n",
        "    for r in range(N-1,-1,-1): # second for loop\n",
        "        RHS = y[r]\n",
        "        \n",
        "        # loop over some of the columns to evaluated summation\n",
        "        for c in range(r+1,N):\n",
        "            RHS -= x[c]*U[r,c]\n",
        "        \n",
        "        if LOUD:\n",
        "            print(\"x[\",r,\"]=\",RHS/U[r,r])\n",
        "        x[r] = RHS/U[r,r]\n",
        "    \n",
        "    return x"
      ]
    },
    {
      "cell_type": "code",
      "execution_count": 7,
      "metadata": {
        "id": "sl6vxBDnSAGM",
        "outputId": "6fafb7b9-4c10-4ad8-decc-1db9c110f716",
        "colab": {
          "base_uri": "https://localhost:8080/"
        }
      },
      "outputs": [
        {
          "output_type": "stream",
          "name": "stdout",
          "text": [
            "\n",
            "Forward solve...\n",
            "y[ 0 ]= 6.0\n",
            "y[ 1 ]= 0.0\n",
            "y[ 2 ]= 10.0\n",
            "\n",
            "Backward solve...\n",
            "x[ 2 ]= 1.0\n",
            "x[ 1 ]= 1.0\n",
            "x[ 0 ]= 1.0\n"
          ]
        }
      ],
      "source": [
        "x = my_lu_solve(P, L, U, b, LOUD=True)"
      ]
    },
    {
      "cell_type": "markdown",
      "metadata": {
        "id": "xsw19yL2SAGN"
      },
      "source": [
        "### Solve using `linalg.solve`\n"
      ]
    },
    {
      "cell_type": "code",
      "execution_count": 8,
      "metadata": {
        "id": "uJeZvp5ASAGN",
        "outputId": "cc1369fe-2ba0-43a2-dc5c-e78694053164",
        "colab": {
          "base_uri": "https://localhost:8080/"
        }
      },
      "outputs": [
        {
          "output_type": "stream",
          "name": "stdout",
          "text": [
            "Solution is (Scipy solve method): \n",
            "\n",
            "[1. 1. 1.]\n"
          ]
        }
      ],
      "source": [
        "# Add your solution here\n",
        "Solution2 = np.linalg.solve(A1,b)\n",
        "print(\"Solution is (Scipy solve method): \\n\")\n",
        "print(Solution2)"
      ]
    },
    {
      "cell_type": "markdown",
      "metadata": {
        "id": "sPu-rWuLSAGN"
      },
      "source": [
        "## Eigenvalues"
      ]
    },
    {
      "cell_type": "markdown",
      "metadata": {
        "tags": [
          "gradescope"
        ],
        "id": "kxVh8FY-SAGN"
      },
      "source": [
        "### Calculate eigenvalues by hand (on paper)"
      ]
    },
    {
      "cell_type": "markdown",
      "metadata": {
        "id": "3DTw3Ia4SAGN"
      },
      "source": [
        "Calculate the eigenvalues for the following matrix:\n",
        "\n",
        "$$\n",
        "A = \\begin{bmatrix} 0 & -4 & -6 \\\\ -1 & 0 & -3 \\\\ 1 & 2 & 5 \\end{bmatrix}\n",
        "$$\n",
        "\n",
        "You may need to do this for a small system on an exam to characterize stationary points of an optimization problem. Hence I would like you to practice at least once on the homework."
      ]
    },
    {
      "cell_type": "markdown",
      "metadata": {
        "id": "8wwbIzDsSAGN"
      },
      "source": [
        "### Calculate eigenvalues using `linalg.eig`\n",
        "\n",
        "Calculate the eigenvalues and corresponding (right) eigenvectors."
      ]
    },
    {
      "cell_type": "code",
      "execution_count": 9,
      "metadata": {
        "id": "hdT3NSjhSAGO",
        "colab": {
          "base_uri": "https://localhost:8080/"
        },
        "outputId": "bdc20439-714b-493c-ec60-7ce6a209bb8e"
      },
      "outputs": [
        {
          "output_type": "stream",
          "name": "stdout",
          "text": [
            "A2= \n",
            "\n",
            "[[ 0 -4 -6]\n",
            " [-1  0 -3]\n",
            " [ 1  2  5]]\n"
          ]
        }
      ],
      "source": [
        "# Add your solution here\n",
        "A2 = np.array([[0, -4, -6], [-1, 0, -3], [1, 2, 5]])\n",
        "print(\"A2= \\n\")\n",
        "print(A2)"
      ]
    },
    {
      "cell_type": "code",
      "execution_count": 10,
      "metadata": {
        "scrolled": true,
        "id": "7s6BW6j8SAGO",
        "outputId": "2afcb2fb-3b31-49fa-d5c5-787de2088d20",
        "colab": {
          "base_uri": "https://localhost:8080/"
        }
      },
      "outputs": [
        {
          "output_type": "stream",
          "name": "stdout",
          "text": [
            "Eigenvalues=  [1. 2. 2.]\n",
            "Eigenvectors=  [[-0.81649658 -0.0111458   0.90265832]\n",
            " [-0.40824829 -0.8302799   0.1523847 ]\n",
            " [ 0.40824829  0.5572352  -0.40247591]]\n"
          ]
        }
      ],
      "source": [
        "# Add your solution here\n",
        "U, V = np.linalg.eig(A2)\n",
        "print(\"Eigenvalues= \", U)\n",
        "print(\"Eigenvectors= \", V)"
      ]
    },
    {
      "cell_type": "markdown",
      "metadata": {
        "tags": [
          "gradescope"
        ],
        "id": "9-HNpEgoSAGO"
      },
      "source": [
        "### Definiteness"
      ]
    },
    {
      "cell_type": "markdown",
      "metadata": {
        "id": "6yI561qmSAGO"
      },
      "source": [
        "Based on your calculations above, is this matrix\n",
        "1. positive definite\n",
        "2. positive semi definite\n",
        "3. negative definite\n",
        "4. negative semi definite\n",
        "5. indefinite or\n",
        "6. cannot say without additional calculations?\n",
        "\n",
        "Briefly comment to justify your answer.\n",
        "\n",
        "*Note*: In this class, \"briefly comment\" means write a few sentences, sketch a picture, write an equation or some combination... whichever you feel is necessary to succinctly provide justification.\n",
        "\n",
        "**Answer**\n",
        "\n",
        "A matrix is positive semi definite if all eigen values are nonnegative. Here, as all calculated eigen values have such condition, the matrxi is positive semi-definite."
      ]
    },
    {
      "cell_type": "markdown",
      "metadata": {
        "id": "fNk7qnBpSAGP"
      },
      "source": [
        "### Singular Value Decomposition\n",
        "\n",
        "**TODO:** Make this a separate problem (after the assignment is turned in this year)."
      ]
    },
    {
      "cell_type": "markdown",
      "metadata": {
        "id": "MAr4q3klSAGP"
      },
      "source": [
        "### SVD calculation using `linalg.svd`\n",
        "\n",
        "Calculate the singular value decomposition of the following matrix using `linalg.svd`:\n",
        "\n",
        "$$\n",
        "A_3 = \\begin{bmatrix} 1 & 2 & 0 & -1 \\\\ 2 & 4 & 10^{-6} & -2 \\\\ 0 & 2 & -1 & 10^{-3} \\end{bmatrix}\n",
        "$$"
      ]
    },
    {
      "cell_type": "code",
      "execution_count": 11,
      "metadata": {
        "id": "2cMIv0O0SAGP",
        "outputId": "b6cd9a4c-26a4-4e16-a275-27f267c2058f",
        "colab": {
          "base_uri": "https://localhost:8080/"
        }
      },
      "outputs": [
        {
          "output_type": "stream",
          "name": "stdout",
          "text": [
            "A3= \n",
            "\n",
            "[[ 1.e+00  2.e+00  0.e+00 -1.e+00]\n",
            " [ 2.e+00  4.e+00  1.e-06 -2.e+00]\n",
            " [ 0.e+00  2.e+00 -1.e+00  1.e-03]]\n"
          ]
        }
      ],
      "source": [
        "# Add your solution here\n",
        "A3 = np.array([[1, 2, 0, -1], [2, 4, 10**(-6), -2], [0, 2, -1, 10**-3]])\n",
        "print(\"A3= \\n\")\n",
        "print(A3)"
      ]
    },
    {
      "cell_type": "code",
      "execution_count": 12,
      "metadata": {
        "id": "VMdsiisqSAGP",
        "outputId": "1f41894d-8b0a-4d39-95ea-df1dcc2ad8b9",
        "colab": {
          "base_uri": "https://localhost:8080/"
        }
      },
      "outputs": [
        {
          "output_type": "stream",
          "name": "stdout",
          "text": [
            "U=  [[-4.25830830e-01  1.36631105e-01 -8.94427217e-01]\n",
            " [-8.51661650e-01  2.73262656e-01  4.47213544e-01]\n",
            " [-3.05516837e-01 -9.52186674e-01  1.91553449e-07]] \n",
            "\n",
            "S=  [5.73316009e+00 1.45975216e+00 3.38134101e-07] \n",
            "\n",
            "Vh=  [[-3.71375314e-01 -8.49329490e-01  5.32892822e-02  3.71322025e-01]\n",
            " [ 4.67994798e-01 -3.68597169e-01  6.52293569e-01 -4.68647091e-01]\n",
            " [-3.77573248e-01  3.77856348e-01  7.56090836e-01  3.78139751e-01]\n",
            " [ 7.07460026e-01 -3.53376990e-04 -7.08908571e-10  7.06753272e-01]] \n",
            "\n"
          ]
        }
      ],
      "source": [
        "# Add your solution here\n",
        "U, S, Vh = np.linalg.svd(A3, full_matrices=True)\n",
        "print(\"U= \", U, \"\\n\")\n",
        "print(\"S= \", S, \"\\n\")\n",
        "print(\"Vh= \", Vh, \"\\n\")"
      ]
    },
    {
      "cell_type": "markdown",
      "metadata": {
        "id": "G7MXSukNSAGP"
      },
      "source": [
        "### Condition number\n",
        "What is the condition number of the matrix? Calculate it two ways:\n",
        "1. Using SVD results\n",
        "2. Using ``np.linalg.cond()``"
      ]
    },
    {
      "cell_type": "code",
      "execution_count": 13,
      "metadata": {
        "id": "tTqWC5bfSAGP",
        "outputId": "6cc3be14-d4f4-4936-c4a6-5bb23475a4ef",
        "colab": {
          "base_uri": "https://localhost:8080/"
        }
      },
      "outputs": [
        {
          "output_type": "stream",
          "name": "stdout",
          "text": [
            "Condition Number=  16955285.118358795\n"
          ]
        }
      ],
      "source": [
        "# Add your solution here\n",
        "Condition_SVD = S[0]/S[-1]\n",
        "print(\"Condition Number= \", Condition_SVD)"
      ]
    },
    {
      "cell_type": "code",
      "execution_count": 14,
      "metadata": {
        "scrolled": true,
        "id": "h3lG1bnmSAGQ",
        "outputId": "1f668175-0036-4299-e518-753cf075d17a",
        "colab": {
          "base_uri": "https://localhost:8080/"
        }
      },
      "outputs": [
        {
          "output_type": "stream",
          "name": "stdout",
          "text": [
            "Condition Number=  16955285.11835879\n"
          ]
        }
      ],
      "source": [
        "# Add your solution here\n",
        "Condition_Scipy = np.linalg.cond(A3)\n",
        "print(\"Condition Number= \", Condition_Scipy)"
      ]
    },
    {
      "cell_type": "markdown",
      "metadata": {
        "id": "npdtkPK1SAGQ"
      },
      "source": [
        "### Linear system"
      ]
    },
    {
      "cell_type": "markdown",
      "metadata": {
        "id": "v2apST_BSAGQ"
      },
      "source": [
        "Consider the linear system $A_4 \\cdot x = b$ with $b = [1, 0, 3]^T$ and\n",
        "\n",
        "$$\n",
        "A_4 = \\begin{bmatrix} 1 & 2 & 0 \\\\ 2 & 4 & 10^{-1} \\\\ 0 & 2 & -1 \\end{bmatrix} ~.\n",
        "$$\n",
        "\n",
        "Approximately how much uncertainty $||\\Delta b||_2$ can you tolerate if you want the uncertainty $||\\Delta x||_2$ to be less than $10^{-2}$?\n"
      ]
    },
    {
      "cell_type": "code",
      "execution_count": 15,
      "metadata": {
        "id": "GoImVNLJSAGQ",
        "outputId": "2ee3b4f3-72b3-4109-e845-23f56e7ac0fe",
        "colab": {
          "base_uri": "https://localhost:8080/"
        }
      },
      "outputs": [
        {
          "output_type": "stream",
          "name": "stdout",
          "text": [
            "Condition number =  181.9054022877228\n",
            "The uncertainty can be included is:  6.160694598769966e-06\n"
          ]
        }
      ],
      "source": [
        "# Add your solution here\n",
        "A4 = np.array([[1, 2, 0], [2, 4, 10**-1], [0, 2, -1]])\n",
        "b = np.array([1, 0, 3])\n",
        "\n",
        "# Find the solution\n",
        "solution_x = np.linalg.solve(A4,b)\n",
        "norm_x = np.linalg.norm(solution_x)\n",
        "norm_b = np.linalg.norm(b)\n",
        "cond_number = np.linalg.cond(A4)\n",
        "delta_x = 10**-2\n",
        "delta_b = (delta_x / (cond_number * norm_x)) * norm_b\n",
        "print(\"Condition number = \", cond_number)\n",
        "print(\"The uncertainty can be included is: \", delta_b)"
      ]
    },
    {
      "cell_type": "markdown",
      "metadata": {
        "id": "KM81H11MSAGQ"
      },
      "source": [
        "**Answer**:\n",
        "\n",
        "The uncertainty can be included is:  6.160694598769966e-06"
      ]
    },
    {
      "cell_type": "code",
      "source": [
        "A5 = np.array([[1, 2, 0], [2, 4, 0], [0, 2, -1]])\n",
        "U1, S1, Vh1 = np.linalg.svd(A5, full_matrices=True)\n",
        "S1"
      ],
      "metadata": {
        "colab": {
          "base_uri": "https://localhost:8080/"
        },
        "id": "RprA6SsV5V95",
        "outputId": "1b746926-c308-47ca-e606-b70230b6397e"
      },
      "execution_count": 16,
      "outputs": [
        {
          "output_type": "execute_result",
          "data": {
            "text/plain": [
              "array([5.33070426e+00, 1.25840857e+00, 1.48029737e-16])"
            ]
          },
          "metadata": {},
          "execution_count": 16
        }
      ]
    },
    {
      "cell_type": "markdown",
      "metadata": {
        "id": "ewIlr5s9SAGQ"
      },
      "source": [
        "### Make it singular\n"
      ]
    },
    {
      "cell_type": "markdown",
      "metadata": {
        "id": "iWT8QkgVSAGR"
      },
      "source": [
        "Do/answer the following:\n",
        "1. Propose a change to a single entry in $A_4$ to make it singular.\n",
        "2. What are the singular values and condition number after this change?\n",
        "3. What can you say about the solution to $A_4 \\cdot x=b$ after the change?"
      ]
    },
    {
      "cell_type": "markdown",
      "metadata": {
        "id": "S2hDsao-SAGR"
      },
      "source": [
        "**Answer:**\n",
        "\n",
        "1. If (row 2, col 3)=$10^{-1}$ turn to 0, then the row two is a cofficient of row1, then the matrix become singular as the determinant get to zero.\n",
        "\n",
        "2. The singular values are calculated using scipy and the results are 5.33, 1.25, and 0.0. Also, the condition number turn to infinity as the Sn=0.\n",
        "\n",
        "3. The solution does not exist as the matrix A is not invertible."
      ]
    },
    {
      "cell_type": "markdown",
      "metadata": {
        "tags": [
          "gradescope"
        ],
        "id": "8uhXxXYvSAGR"
      },
      "source": [
        "## Convexity\n",
        "\n",
        "Please turn in via Gradescope."
      ]
    },
    {
      "cell_type": "markdown",
      "metadata": {
        "id": "MiU3eG54SAGR"
      },
      "source": [
        "### Determine if the following functions are convex"
      ]
    },
    {
      "cell_type": "markdown",
      "metadata": {
        "id": "kEENhJqOSAGR"
      },
      "source": [
        "1. $x^2 + ax + b, ~x \\in \\mathbb{R}$\n",
        "2. $x^3, ~x \\in \\mathbb{R}$\n",
        "3. $| x |, ~ x \\in [ -5, 5]$\n",
        "4. $x + y, ~ x \\in \\mathbb{R}, ~ y \\in \\mathbb{R}$\n",
        "5. $x \\cdot y, ~ x \\in \\mathbb{R}, ~ y \\in \\mathbb{R}$\n",
        "6. $\\log(x), ~ x \\in (0,1]$"
      ]
    },
    {
      "cell_type": "markdown",
      "metadata": {
        "id": "0Z1Ijxw-SAGR"
      },
      "source": [
        "### Prove the following properties"
      ]
    },
    {
      "cell_type": "markdown",
      "metadata": {
        "id": "pSGANXkkSAGR"
      },
      "source": [
        "Consider twice differentiable function $f(x): \\mathbb{R}^n \\rightarrow \\mathbb{R}$.\n",
        "\n",
        "Recall that $f(x)$ is convex on $x \\in \\mathbb{R}^n$ if and only if\n",
        "\n",
        "$f(x+p) \\geq f(x) + \\nabla f(x)^T p$ for all $x, p \\in \\mathbb{R}^n$\n"
      ]
    },
    {
      "cell_type": "markdown",
      "metadata": {
        "id": "5fpOtZ1XSAGR"
      },
      "source": [
        "#### PSD implies Convexity\n",
        "\n",
        "Prove that if $\\nabla^2 f(x)$ is positive semidefinite for all $x \\in \\mathbb{R}^n$, then $f(x)$ must be convex.\n"
      ]
    },
    {
      "cell_type": "markdown",
      "metadata": {
        "id": "AuJCUiZvSAGS"
      },
      "source": [
        "#### Convexity implies PSD"
      ]
    },
    {
      "cell_type": "markdown",
      "metadata": {
        "id": "83_dYidsSAGS"
      },
      "source": [
        "Prove that if $f(x)$ is convex then $\\nabla^2 f(x)$ must be positive semidefinite."
      ]
    },
    {
      "cell_type": "markdown",
      "metadata": {
        "id": "XTVSAIEjSAGS"
      },
      "source": [
        "#### PD implies Strictly Convex"
      ]
    },
    {
      "cell_type": "markdown",
      "metadata": {
        "id": "rZLY-hHxSAGS"
      },
      "source": [
        "Prove that if $\\nabla^2 f(x)$ is positive definite for all $x \\in \\mathbb{R}^n$, then $f(x)$ must be strictly convex."
      ]
    }
  ],
  "metadata": {
    "celltoolbar": "Tags",
    "kernelspec": {
      "display_name": "Python 3 (ipykernel)",
      "language": "python",
      "name": "python3"
    },
    "language_info": {
      "codemirror_mode": {
        "name": "ipython",
        "version": 3
      },
      "file_extension": ".py",
      "mimetype": "text/x-python",
      "name": "python",
      "nbconvert_exporter": "python",
      "pygments_lexer": "ipython3",
      "version": "3.9.12"
    },
    "colab": {
      "provenance": []
    }
  },
  "nbformat": 4,
  "nbformat_minor": 0
}