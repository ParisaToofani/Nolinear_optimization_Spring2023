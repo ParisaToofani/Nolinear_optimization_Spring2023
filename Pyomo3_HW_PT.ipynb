{
  "cells": [
    {
      "cell_type": "markdown",
      "metadata": {
        "id": "vwLWx59eZJTm"
      },
      "source": [
        "# Pyomo Homework 3"
      ]
    },
    {
      "cell_type": "code",
      "execution_count": 116,
      "metadata": {
        "id": "6j-0u4iHZJTp",
        "colab": {
          "base_uri": "https://localhost:8080/"
        },
        "outputId": "246606f6-0701-477c-b657-d88447144b02"
      },
      "outputs": [
        {
          "output_type": "stream",
          "name": "stdout",
          "text": [
            "--2023-02-18 02:11:26--  https://raw.githubusercontent.com/ndcbe/CBE60499/main/notebooks/helper.py\n",
            "Resolving raw.githubusercontent.com (raw.githubusercontent.com)... 185.199.108.133, 185.199.109.133, 185.199.110.133, ...\n",
            "Connecting to raw.githubusercontent.com (raw.githubusercontent.com)|185.199.108.133|:443... connected.\n",
            "HTTP request sent, awaiting response... 200 OK\n",
            "Length: 6456 (6.3K) [text/plain]\n",
            "Saving to: ‘helper.py.10’\n",
            "\n",
            "\rhelper.py.10          0%[                    ]       0  --.-KB/s               \rhelper.py.10        100%[===================>]   6.30K  --.-KB/s    in 0s      \n",
            "\n",
            "2023-02-18 02:11:26 (83.4 MB/s) - ‘helper.py.10’ saved [6456/6456]\n",
            "\n",
            "Looking in indexes: https://pypi.org/simple, https://us-python.pkg.dev/colab-wheels/public/simple/\n",
            "Requirement already satisfied: casadi in /usr/local/lib/python3.8/dist-packages (3.5.5)\n",
            "IDAES found! No need to install.\n",
            "Ipopt found! No need to install.\n",
            "ipopt was successfully installed\n",
            "k_aug was successfully installed\n"
          ]
        }
      ],
      "source": [
        "# Import the libraries you need here for the assignment\n",
        "# Add your solution here\n",
        "import sys\n",
        "if \"google.colab\" in sys.modules:\n",
        "    !wget \"https://raw.githubusercontent.com/ndcbe/CBE60499/main/notebooks/helper.py\"\n",
        "    import helper\n",
        "    !pip install casadi\n",
        "    helper.install_idaes()\n",
        "    helper.install_ipopt()\n",
        "else:\n",
        "    import idaes # loads Ipopt with HSL\n",
        "\n",
        "from pyomo.environ import *\n",
        "from pyomo.dae import *\n",
        "from pyomo.dae.simulator import Simulator\n",
        "import matplotlib.pyplot as plt"
      ]
    },
    {
      "cell_type": "markdown",
      "metadata": {
        "id": "-naWHbW5ZJTr"
      },
      "source": [
        "## Pyomo.DAE: Reaction Kinetics"
      ]
    },
    {
      "cell_type": "markdown",
      "metadata": {
        "id": "02BOxb__ZJTr"
      },
      "source": [
        "Consider the chemical reaction $$A \\Leftrightarrow B \\Leftrightarrow C$$\n",
        "\n",
        "which is modeling with the following differential algebraic equations:\n",
        "\n",
        "$$\\begin{align*}\n",
        "\\frac{dz_A}{dt} &= -p_1 z_A(t) + p_2 z_B(t),\\quad z_A(0)=1 \\\\\n",
        "\\frac{dz_B}{dt} &= p_1 z_A(t) - (p_2 + p_3) z_B(t) + p_4 z_C(t), \\quad z_B(0)=0 \\\\\n",
        "1 &= z_A(t) + z_B(t) + z_C(t)\n",
        "\\end{align*}$$\n",
        "\n",
        "where $p_1=4$, $p_2=2$, $p_3=40$, and $p_4=20$ are parameters with the appropriate units. $z_A(t)$, $z_B(t)$, and $z_C(t)$ are time varying concentrations of species $A$, $B$, and $C$ respectively."
      ]
    },
    {
      "cell_type": "markdown",
      "metadata": {
        "id": "NSbtWxoeZJTs"
      },
      "source": [
        "### Index analysis"
      ]
    },
    {
      "cell_type": "markdown",
      "metadata": {
        "id": "l_86ch9wZJTs"
      },
      "source": [
        "Determine the index of the above differential algebraic equation (DAE) system above.\n",
        "\n",
        "Tip: do this on paper. On Gradescope, there will be a separate assignment for you to turn in your handwritten work.\n",
        "\n",
        "**Provided at Gradescope**"
      ]
    },
    {
      "cell_type": "markdown",
      "metadata": {
        "id": "0a2sS-pSZJTt"
      },
      "source": [
        "### Model reformulation"
      ]
    },
    {
      "cell_type": "markdown",
      "metadata": {
        "id": "KT9FRfcmZJTt"
      },
      "source": [
        "Apply the index reduction algorithm from class as needed. Ultimately identify two versions of the model: one that is index 1 and another that is index 0. Find a consistent initial condition $z_C(0)$.\n",
        "\n",
        "**Provided at Gradescope**"
      ]
    },
    {
      "cell_type": "markdown",
      "metadata": {
        "id": "OV5cZEYwZJTu"
      },
      "source": [
        "### Implement index 1 model in Pyomo"
      ]
    },
    {
      "cell_type": "markdown",
      "metadata": {
        "id": "Xfjtsjh3ZJTu"
      },
      "source": [
        "We will be building a library of functions."
      ]
    },
    {
      "cell_type": "markdown",
      "metadata": {
        "id": "RiDMFsd9ZJTu"
      },
      "source": [
        "#### Create model and set initial conditions"
      ]
    },
    {
      "cell_type": "code",
      "execution_count": 117,
      "metadata": {
        "id": "GNAgRe77ZJTu"
      },
      "outputs": [],
      "source": [
        "def create_model():\n",
        "    ''' Create index 1 model and set initial conditions\n",
        "    \n",
        "    Return:\n",
        "        m: Pyomo model\n",
        "    '''\n",
        "    \n",
        "    # Tip: Set time to go from 0 to 1 when creating the model.\n",
        "    \n",
        "    \n",
        "    m = ConcreteModel()\n",
        "\n",
        "    m.t = ContinuousSet(bounds=(0.0, 1))\n",
        "    \n",
        "    # Add your solution here\n",
        "    # !!! This model is developed for the Index 1 problem based on the analysis \n",
        "    # of the previous part\n",
        "    \"\"\"\n",
        "    Here, the model parameters are defined and the initial values are based\n",
        "    on the defined values in the problem.\n",
        "    \"\"\"\n",
        "    m.p1 = Param(initialize=4.0)\n",
        "    m.p2 = Param(initialize=2.0)\n",
        "    m.p3 = Param(initialize=40.0)\n",
        "    m.p4 = Param(initialize=20.0)\n",
        "\n",
        "    \"\"\"\n",
        "    Then three main variables are ZA, ZB, and Zc and the two derivatives\n",
        "    including dZA/dt and dZB/dt.\n",
        "    \"\"\"\n",
        "    m.za = Var(m.t)\n",
        "    m.zb = Var(m.t)\n",
        "    m.zc = Var(m.t)\n",
        "    m.dza = DerivativeVar(m.za)\n",
        "    m.dzb = DerivativeVar(m.zb)\n",
        "\n",
        "    # Setting the initial conditions\n",
        "    \"\"\"\n",
        "    This is the initial points defined by the problem.\n",
        "    \"\"\"\n",
        "    m.za[0.0] = 1\n",
        "    m.zb[0.0] = 0\n",
        "\n",
        "    \"\"\"\n",
        "    Define the model constraints based on the derivatives and equities\n",
        "    \"\"\"\n",
        "    def differential1(m, t):\n",
        "        return m.dza[t] == -m.p1 * m.za[t] + m.p2 * m.zb[t]\n",
        "\n",
        "    m.diff1 = Constraint(m.t, rule=differential1)\n",
        "\n",
        "    def differential2(m, t):\n",
        "        return m.dzb[t] == m.p1 * m.za[t] - (m.p2 + m.p3) * m.zb[t] + m.p4 * m.zc[t]\n",
        "\n",
        "    m.diff2 = Constraint(m.t, rule=differential2)\n",
        "\n",
        "    def equityconst1(m, t):\n",
        "        return m.za[t] + m.zb[t] + m.zc[t] == 1\n",
        "\n",
        "    m.eq1 = Constraint(m.t, rule=equityconst1)\n",
        "    return m"
      ]
    },
    {
      "cell_type": "markdown",
      "metadata": {
        "id": "0U9SE2lSZJTv"
      },
      "source": [
        "### Simulate, discretize, and initialize collocation model"
      ]
    },
    {
      "cell_type": "code",
      "execution_count": 118,
      "metadata": {
        "id": "sRVTJudCZJTv"
      },
      "outputs": [],
      "source": [
        "def simulate_discretize_model(m,NFE,initialize):\n",
        "    ''' Simulation, discretize, and initialize the Pyomo model\n",
        "    \n",
        "    Arguments:\n",
        "        m: Pyomo model\n",
        "        NFE: number of finite elements to consider (integer)\n",
        "        initialize: if True, initialize the discretized model with the \n",
        "             integrator solution (boolean)\n",
        "    \n",
        "    Returns:\n",
        "        sim: Simulator object from Pyomo.DAE\n",
        "        tsim: Timesteps returned from simulator\n",
        "        profiles: Results returned from simulator\n",
        "    \n",
        "    Overall Steps:\n",
        "    1. Create Pyomo.DAE simulator and integrate with casadi/idas\n",
        "    2. Transform model using 'dae.collocation' strategy. Use 3 collocation points\n",
        "        per finite elemebt\n",
        "    3. If initialize is true, call 'sim.initialize_model()'. This will use the\n",
        "        Simulator solution to initialize the discretized Pyomo model. Really cool!\n",
        "    '''\n",
        "    \n",
        "    # Add your solution here\n",
        "    sim = Simulator(m, package='casadi')\n",
        "    tsim, profiles = sim.simulate(numpoints=100, integrator='idas')\n",
        "\n",
        "    \"\"\"\n",
        "    Apply the model discretizer \n",
        "    \"\"\"\n",
        "    discretizer = TransformationFactory('dae.collocation')\n",
        "    discretizer.apply_to(m, nfe=NFE, ncp=3)\n",
        "\n",
        "    # If initialize is true, call 'sim.initialize_model()'\n",
        "    if initialize == True:\n",
        "      sim.initialize_model()\n",
        "    \n",
        "    return sim, tsim, profiles"
      ]
    },
    {
      "cell_type": "markdown",
      "metadata": {
        "id": "OmT_VV1qZJTw"
      },
      "source": [
        "### Plot results"
      ]
    },
    {
      "cell_type": "code",
      "execution_count": 119,
      "metadata": {
        "id": "3tco9N4eZJTw"
      },
      "outputs": [],
      "source": [
        "def plot_result(m, sim, tsim, profiles, include_model_values):\n",
        "    \"\"\" Plot the results from the simulator (and optionally Pyomo model)\n",
        "    \n",
        "    Arguments:\n",
        "        m: Pyomo model\n",
        "        sim: Pyomo.DAE simulator\n",
        "        tsim: timesteps from simulator\n",
        "        profiles: results from simulation\n",
        "        include_model_values: if True, also plot the values from the Pyomo model m\n",
        "    \n",
        "    Returns:\n",
        "        nothing\n",
        "        \n",
        "    Actions/Steps/Tips:\n",
        "    1. Plot the results stored in tsim and profiles as solid lines. Recycle code from class.\n",
        "    2. If 'include_model_values' is true, plot za, zb, and zc values stored in Pyomo model 'm'.\n",
        "        Use a solid symbol.\n",
        "    3. Add a legend and axes labels\n",
        "    \"\"\"\n",
        "    \n",
        "    # Add your solution here\n",
        "    time = list(m.t)\n",
        "    za = [value(m.za[t]) for t in m.t]\n",
        "    zb = [value(m.zb[t]) for t in m.t]\n",
        "    zc = [value(m.zc[t]) for t in m.t]\n",
        "\n",
        "    variable_order = sim.get_variable_order()\n",
        "    algebric_order = sim.get_variable_order(vartype='algebraic')\n",
        "\n",
        "    colors = ['k', 'r', 'b']\n",
        "    num = 0\n",
        "    for item1, v in enumerate(variable_order):\n",
        "        plt.plot(tsim, profiles[:, item1], colors[num])\n",
        "        num+=1\n",
        "\n",
        "    for item2, v in enumerate(algebric_order):\n",
        "        plt.plot(tsim, profiles[:, len(variable_order) + item2])\n",
        "\n",
        "    if include_model_values == True:\n",
        "      plt.plot(time, za, 'x', c='k', label='za')\n",
        "      plt.plot(time, zb, 'o', c='r', label='zb')\n",
        "      plt.plot(time, zc, '*', c='b', label='zc')\n",
        "      plt.xlabel('$\\tau$')\n",
        "      plt.legend(loc='best')\n",
        "    plt.show()\n",
        "    \n",
        "    # Tip: Do not forget to include `plt.show()` (assuming you imported matplotlib.pyplot as plt)"
      ]
    },
    {
      "cell_type": "code",
      "execution_count": 120,
      "metadata": {
        "id": "vKFJopHpZJTw"
      },
      "outputs": [],
      "source": [
        "def solve_model(m):\n",
        "    \"\"\" Solve discretized model with Ipopt\n",
        "    \n",
        "    Arguments:\n",
        "        m: Pyomo model\n",
        "        \n",
        "    Returns:\n",
        "        nothing\n",
        "    \"\"\"\n",
        "    \n",
        "    # Here, the initial condition is defined\n",
        "    def defineinit(m):\n",
        "      # Applying generators\n",
        "      yield m.za[0] == 1\n",
        "      yield m.zb[0] == 0\n",
        "    m.initcon = ConstraintList(rule=defineinit)\n",
        "\n",
        "    # Solve the model using Ipopt\n",
        "    solver = SolverFactory('ipopt')\n",
        "    solver.solve(m,tee=True)"
      ]
    },
    {
      "cell_type": "markdown",
      "metadata": {
        "id": "xg7y-RYKZJTx"
      },
      "source": [
        "### Simulate and solve Pyomo model with initialization"
      ]
    },
    {
      "cell_type": "code",
      "execution_count": 121,
      "metadata": {
        "id": "clpuSBceZJTx",
        "colab": {
          "base_uri": "https://localhost:8080/",
          "height": 279
        },
        "outputId": "b9c911fb-6dd6-4de9-c0d4-92207e86220e"
      },
      "outputs": [
        {
          "output_type": "display_data",
          "data": {
            "text/plain": [
              "<Figure size 432x288 with 1 Axes>"
            ],
            "image/png": "[encoded data removed]"
          },
          "metadata": {
            "needs_background": "light"
          }
        }
      ],
      "source": [
        "# Create Pyomo model\n",
        "model = create_model()\n",
        "\n",
        "# Initialize discretized model with simulation result?\n",
        "init = True\n",
        "\n",
        "# Number of finite elements\n",
        "NFE = 6\n",
        "\n",
        "# Simulate model\n",
        "sim, tsim, profiles = simulate_discretize_model(model,NFE,init)\n",
        "\n",
        "# Plot simulation results\n",
        "plot_result(model, sim, tsim, profiles,True)"
      ]
    },
    {
      "cell_type": "code",
      "execution_count": 122,
      "metadata": {
        "id": "jhVkVR8cZJTx",
        "colab": {
          "base_uri": "https://localhost:8080/",
          "height": 1000
        },
        "outputId": "38931eb7-b5a9-4eff-d3a6-c1bca30832bd"
      },
      "outputs": [
        {
          "output_type": "stream",
          "name": "stdout",
          "text": [
            "Ipopt 3.13.2: \n",
            "\n",
            "******************************************************************************\n",
            "This program contains Ipopt, a library for large-scale nonlinear optimization.\n",
            " Ipopt is released as open source code under the Eclipse Public License (EPL).\n",
            "         For more information visit http://projects.coin-or.org/Ipopt\n",
            "\n",
            "This version of Ipopt was compiled from source code available at\n",
            "    https://github.com/IDAES/Ipopt as part of the Institute for the Design of\n",
            "    Advanced Energy Systems Process Systems Engineering Framework (IDAES PSE\n",
            "    Framework) Copyright (c) 2018-2019. See https://github.com/IDAES/idaes-pse.\n",
            "\n",
            "This version of Ipopt was compiled using HSL, a collection of Fortran codes\n",
            "    for large-scale scientific computation.  All technical papers, sales and\n",
            "    publicity material resulting from use of the HSL codes within IPOPT must\n",
            "    contain the following acknowledgement:\n",
            "        HSL, a collection of Fortran codes for large-scale scientific\n",
            "        computation. See http://www.hsl.rl.ac.uk.\n",
            "******************************************************************************\n",
            "\n",
            "This is Ipopt version 3.13.2, running with linear solver ma27.\n",
            "\n",
            "Number of nonzeros in equality constraint Jacobian...:      372\n",
            "Number of nonzeros in inequality constraint Jacobian.:        0\n",
            "Number of nonzeros in Lagrangian Hessian.............:        0\n",
            "\n",
            "Total number of variables............................:       95\n",
            "                     variables with only lower bounds:        0\n",
            "                variables with lower and upper bounds:        0\n",
            "                     variables with only upper bounds:        0\n",
            "Total number of equality constraints.................:       95\n",
            "Total number of inequality constraints...............:        0\n",
            "        inequality constraints with only lower bounds:        0\n",
            "   inequality constraints with lower and upper bounds:        0\n",
            "        inequality constraints with only upper bounds:        0\n",
            "\n",
            "iter    objective    inf_pr   inf_du lg(mu)  ||d||  lg(rg) alpha_du alpha_pr  ls\n",
            "   0  0.0000000e+00 4.00e+00 0.00e+00  -1.0 0.00e+00    -  0.00e+00 0.00e+00   0\n",
            "   1  0.0000000e+00 4.31e-15 0.00e+00  -1.0 4.00e+00    -  1.00e+00 1.00e+00h  1\n",
            "\n",
            "Number of Iterations....: 1\n",
            "\n",
            "                                   (scaled)                 (unscaled)\n",
            "Objective...............:   0.0000000000000000e+00    0.0000000000000000e+00\n",
            "Dual infeasibility......:   0.0000000000000000e+00    0.0000000000000000e+00\n",
            "Constraint violation....:   4.3125225612783424e-15    4.3125225612783424e-15\n",
            "Complementarity.........:   0.0000000000000000e+00    0.0000000000000000e+00\n",
            "Overall NLP error.......:   4.3125225612783424e-15    4.3125225612783424e-15\n",
            "\n",
            "\n",
            "Number of objective function evaluations             = 2\n",
            "Number of objective gradient evaluations             = 2\n",
            "Number of equality constraint evaluations            = 2\n",
            "Number of inequality constraint evaluations          = 0\n",
            "Number of equality constraint Jacobian evaluations   = 2\n",
            "Number of inequality constraint Jacobian evaluations = 0\n",
            "Number of Lagrangian Hessian evaluations             = 1\n",
            "Total CPU secs in IPOPT (w/o function evaluations)   =      0.001\n",
            "Total CPU secs in NLP function evaluations           =      0.000\n",
            "\n",
            "EXIT: Optimal Solution Found.\n",
            "\b\b\b\b\b\b\b\b\b\b\b\b\b\b"
          ]
        },
        {
          "output_type": "display_data",
          "data": {
            "text/plain": [
              "<Figure size 432x288 with 1 Axes>"
            ],
            "image/png": "[encoded data removed]"
          },
          "metadata": {
            "needs_background": "light"
          }
        }
      ],
      "source": [
        "# Solve collocation formulation with Ipopt\n",
        "solve_model(model)\n",
        "\n",
        "# Plot results\n",
        "plot_result(model, sim, tsim, profiles, True)"
      ]
    },
    {
      "cell_type": "markdown",
      "metadata": {
        "id": "CjGHcrfLZJTx"
      },
      "source": [
        "### Simulate and solve Pyomo model without initialization"
      ]
    },
    {
      "cell_type": "markdown",
      "metadata": {
        "id": "1RXJRuOLZJTx"
      },
      "source": [
        "Repeat the analysis from above, but do NOT initialize the discretized model with the simulation result. (Tip: you only need to change two small things.)"
      ]
    },
    {
      "cell_type": "code",
      "execution_count": 123,
      "metadata": {
        "id": "bo_p72sbZJTy",
        "colab": {
          "base_uri": "https://localhost:8080/",
          "height": 1000
        },
        "outputId": "3d24db51-7be9-48eb-e7da-1fdcf4c3ebac"
      },
      "outputs": [
        {
          "output_type": "stream",
          "name": "stdout",
          "text": [
            "Ipopt 3.13.2: \n",
            "\n",
            "******************************************************************************\n",
            "This program contains Ipopt, a library for large-scale nonlinear optimization.\n",
            " Ipopt is released as open source code under the Eclipse Public License (EPL).\n",
            "         For more information visit http://projects.coin-or.org/Ipopt\n",
            "\n",
            "This version of Ipopt was compiled from source code available at\n",
            "    https://github.com/IDAES/Ipopt as part of the Institute for the Design of\n",
            "    Advanced Energy Systems Process Systems Engineering Framework (IDAES PSE\n",
            "    Framework) Copyright (c) 2018-2019. See https://github.com/IDAES/idaes-pse.\n",
            "\n",
            "This version of Ipopt was compiled using HSL, a collection of Fortran codes\n",
            "    for large-scale scientific computation.  All technical papers, sales and\n",
            "    publicity material resulting from use of the HSL codes within IPOPT must\n",
            "    contain the following acknowledgement:\n",
            "        HSL, a collection of Fortran codes for large-scale scientific\n",
            "        computation. See http://www.hsl.rl.ac.uk.\n",
            "******************************************************************************\n",
            "\n",
            "This is Ipopt version 3.13.2, running with linear solver ma27.\n",
            "\n",
            "Number of nonzeros in equality constraint Jacobian...:      192\n",
            "Number of nonzeros in inequality constraint Jacobian.:        0\n",
            "Number of nonzeros in Lagrangian Hessian.............:        0\n",
            "\n",
            "Total number of variables............................:       50\n",
            "                     variables with only lower bounds:        0\n",
            "                variables with lower and upper bounds:        0\n",
            "                     variables with only upper bounds:        0\n",
            "Total number of equality constraints.................:       50\n",
            "Total number of inequality constraints...............:        0\n",
            "        inequality constraints with only lower bounds:        0\n",
            "   inequality constraints with lower and upper bounds:        0\n",
            "        inequality constraints with only upper bounds:        0\n",
            "\n",
            "iter    objective    inf_pr   inf_du lg(mu)  ||d||  lg(rg) alpha_du alpha_pr  ls\n",
            "   0  0.0000000e+00 1.24e+01 0.00e+00  -1.0 0.00e+00    -  0.00e+00 0.00e+00   0\n",
            "   1  0.0000000e+00 1.78e-15 0.00e+00  -1.0 4.00e+00    -  1.00e+00 1.00e+00h  1\n",
            "\n",
            "Number of Iterations....: 1\n",
            "\n",
            "                                   (scaled)                 (unscaled)\n",
            "Objective...............:   0.0000000000000000e+00    0.0000000000000000e+00\n",
            "Dual infeasibility......:   0.0000000000000000e+00    0.0000000000000000e+00\n",
            "Constraint violation....:   1.7763568394002505e-15    1.7763568394002505e-15\n",
            "Complementarity.........:   0.0000000000000000e+00    0.0000000000000000e+00\n",
            "Overall NLP error.......:   1.7763568394002505e-15    1.7763568394002505e-15\n",
            "\n",
            "\n",
            "Number of objective function evaluations             = 2\n",
            "Number of objective gradient evaluations             = 2\n",
            "Number of equality constraint evaluations            = 2\n",
            "Number of inequality constraint evaluations          = 0\n",
            "Number of equality constraint Jacobian evaluations   = 2\n",
            "Number of inequality constraint Jacobian evaluations = 0\n",
            "Number of Lagrangian Hessian evaluations             = 1\n",
            "Total CPU secs in IPOPT (w/o function evaluations)   =      0.001\n",
            "Total CPU secs in NLP function evaluations           =      0.000\n",
            "\n",
            "EXIT: Optimal Solution Found.\n",
            "\b\b\b\b\b\b\b\b\b\b\b\b\b\b"
          ]
        },
        {
          "output_type": "display_data",
          "data": {
            "text/plain": [
              "<Figure size 432x288 with 1 Axes>"
            ],
            "image/png": "[encoded data removed]"
          },
          "metadata": {
            "needs_background": "light"
          }
        }
      ],
      "source": [
        "# Add your solution here\n",
        "# Create Pyomo model\n",
        "model = create_model()\n",
        "\n",
        "# Initialize discretized model with simulation result?\n",
        "init = False\n",
        "\n",
        "# Number of finite elements\n",
        "NFE = 3\n",
        "\n",
        "# Simulate model\n",
        "sim, tsim, profiles = simulate_discretize_model(model,NFE,init)\n",
        "\n",
        "# Solve collocation formulation with Ipopt\n",
        "solve_model(model)\n",
        "\n",
        "# Plot simulation results\n",
        "plot_result(model, sim, tsim, profiles,True)"
      ]
    },
    {
      "cell_type": "markdown",
      "metadata": {
        "id": "IOcfn9fOZJTy"
      },
      "source": [
        "### Discussion: Does initialization matter?\n",
        "\n",
        "Write 1 to 3 sentences for each of the following questions:\n",
        "\n",
        "1) What happens if we disable initialization? \n",
        "\n",
        "**Answer:**\n",
        "\n",
        "By disabling the initialization no special changes happened and both problems results in the same answer.\n",
        "\n",
        "\n",
        "2) Does the number of interactions Ipopt need change?\n",
        "\n",
        "**Answer:**\n",
        "\n",
        "No, the number of iterations are exactly the same!\n",
        "\n",
        "3) Why is this specific problem robust to poor initialization? What about this specific DAE system makes it easy to solve?\n",
        "\n",
        "**Answer:**\n",
        "\n",
        "This problem first of all is an index one problem. Secondly, the dimension of the problem is not high. So, this specific problem is robust to poor initialization."
      ]
    },
    {
      "cell_type": "markdown",
      "metadata": {
        "id": "Rww4whrzZJTy"
      },
      "source": [
        "### Degree of Freedom Analysis"
      ]
    },
    {
      "cell_type": "markdown",
      "metadata": {
        "id": "7o4hO-vcZJTy"
      },
      "source": [
        "Please answer on paper and turn in via Gradescope.\n",
        "\n",
        "**The answer to all following questions are provided in the GradeScope**"
      ]
    },
    {
      "cell_type": "markdown",
      "metadata": {
        "id": "xF0HIVl0ZJTy"
      },
      "source": [
        "Rerun the code above for two different numbers of finite elements. Record the total number of variables and equality constraints."
      ]
    },
    {
      "cell_type": "markdown",
      "metadata": {
        "id": "ny6E0ypHZJTy"
      },
      "source": [
        "How many degrees of freedom are in the simulation problem? (1 sentence is fine.)"
      ]
    },
    {
      "cell_type": "markdown",
      "metadata": {
        "id": "NZKnDcNaZJTy"
      },
      "source": [
        "Choose $N=3$ or a similar number of finite elements. Using the collocation equations from class, show that the discretized Pyomo model has the correct number of variables and algebriac equations. This will be a little tedious, but good to practice once on a simple model. You might need to do this when debugging a DAE model for research.\n",
        "\n",
        "Note: You might get a strange answer. That is okay."
      ]
    }
  ],
  "metadata": {
    "kernelspec": {
      "display_name": "Python 3 (ipykernel)",
      "language": "python",
      "name": "python3"
    },
    "language_info": {
      "codemirror_mode": {
        "name": "ipython",
        "version": 3
      },
      "file_extension": ".py",
      "mimetype": "text/x-python",
      "name": "python",
      "nbconvert_exporter": "python",
      "pygments_lexer": "ipython3",
      "version": "3.10.4"
    },
    "colab": {
      "provenance": []
    }
  },
  "nbformat": 4,
  "nbformat_minor": 0
}